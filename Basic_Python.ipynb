{
  "nbformat": 4,
  "nbformat_minor": 0,
  "metadata": {
    "colab": {
      "provenance": []
    },
    "kernelspec": {
      "name": "python3",
      "display_name": "Python 3"
    },
    "language_info": {
      "name": "python"
    }
  },
  "cells": [
    {
      "cell_type": "code",
      "execution_count": null,
      "metadata": {
        "colab": {
          "base_uri": "https://localhost:8080/"
        },
        "id": "cLT5siI3ro6G",
        "outputId": "4181b725-9f48-49af-8586-713921730088"
      },
      "outputs": [
        {
          "output_type": "stream",
          "name": "stdout",
          "text": [
            "Hello World\n"
          ]
        }
      ],
      "source": [
        "print('Hello World') #My very first Python code\n",
        "\n"
      ]
    },
    {
      "cell_type": "code",
      "source": [
        "#Python Date Types\n",
        "#1.Numbers\n",
        "#Integers and Float"
      ],
      "metadata": {
        "id": "L9RViPhWsUFt"
      },
      "execution_count": null,
      "outputs": []
    },
    {
      "cell_type": "code",
      "source": [
        "#Integer (int)\n",
        "x = 1\n",
        "y = 2\n",
        "print(x + y)"
      ],
      "metadata": {
        "colab": {
          "base_uri": "https://localhost:8080/"
        },
        "id": "5FoT9decsxWe",
        "outputId": "dd81c8ed-c14c-4dc0-858c-bd2af34e5755"
      },
      "execution_count": null,
      "outputs": [
        {
          "output_type": "stream",
          "name": "stdout",
          "text": [
            "3\n"
          ]
        }
      ]
    },
    {
      "cell_type": "code",
      "source": [
        "#Float\n",
        "x = 1.5\n",
        "y = 2.0\n",
        "print(x + y)"
      ],
      "metadata": {
        "colab": {
          "base_uri": "https://localhost:8080/"
        },
        "id": "PxU17SXEs7GG",
        "outputId": "27bf31c8-114d-4f27-e2e0-702ba67f73fe"
      },
      "execution_count": null,
      "outputs": [
        {
          "output_type": "stream",
          "name": "stdout",
          "text": [
            "3.5\n"
          ]
        }
      ]
    },
    {
      "cell_type": "code",
      "source": [
        "#Strings\n",
        "x = 'Hello'\n",
        "y = 'World'\n",
        "print (x + y)"
      ],
      "metadata": {
        "colab": {
          "base_uri": "https://localhost:8080/"
        },
        "id": "aLjDDzI3tUOp",
        "outputId": "4f8923fd-01f8-4604-96e0-2112b0d1c049"
      },
      "execution_count": null,
      "outputs": [
        {
          "output_type": "stream",
          "name": "stdout",
          "text": [
            "HelloWorld\n"
          ]
        }
      ]
    },
    {
      "cell_type": "code",
      "source": [
        "print ('my name is bea') #single quatation mark"
      ],
      "metadata": {
        "colab": {
          "base_uri": "https://localhost:8080/"
        },
        "id": "nK95YJQqtw4O",
        "outputId": "8cfdfd4a-277c-497d-b816-e665e99d4bc5"
      },
      "execution_count": null,
      "outputs": [
        {
          "output_type": "stream",
          "name": "stdout",
          "text": [
            "my name is bea\n"
          ]
        }
      ]
    },
    {
      "cell_type": "code",
      "source": [
        "print ('my name is bea') #double quotation mark"
      ],
      "metadata": {
        "colab": {
          "base_uri": "https://localhost:8080/"
        },
        "id": "OqeNjBdHt41n",
        "outputId": "b9f42af5-41fe-410b-e560-900671272a16"
      },
      "execution_count": null,
      "outputs": [
        {
          "output_type": "stream",
          "name": "stdout",
          "text": [
            "my name is bea\n"
          ]
        }
      ]
    },
    {
      "cell_type": "code",
      "source": [
        "x = '123456'\n",
        "y = 123456\n",
        "z = 7890.00\n",
        "print ('This is a string', x)"
      ],
      "metadata": {
        "colab": {
          "base_uri": "https://localhost:8080/"
        },
        "id": "JjNAaSR7uAgU",
        "outputId": "60678a56-03df-4e37-f7a0-f9e9b7ff43f2"
      },
      "execution_count": null,
      "outputs": [
        {
          "output_type": "stream",
          "name": "stdout",
          "text": [
            "This is a string 123456\n"
          ]
        }
      ]
    },
    {
      "cell_type": "code",
      "source": [
        "print (This is a integer, y)"
      ],
      "metadata": {
        "colab": {
          "base_uri": "https://localhost:8080/",
          "height": 106
        },
        "id": "KvDbtD01uuM5",
        "outputId": "7b21ad2e-75ac-472b-adb8-3b649c7b75e3"
      },
      "execution_count": null,
      "outputs": [
        {
          "output_type": "error",
          "ename": "SyntaxError",
          "evalue": "invalid syntax. Perhaps you forgot a comma? (<ipython-input-13-6448c01eeb81>, line 1)",
          "traceback": [
            "\u001b[0;36m  File \u001b[0;32m\"<ipython-input-13-6448c01eeb81>\"\u001b[0;36m, line \u001b[0;32m1\u001b[0m\n\u001b[0;31m    print (This is a integer, y)\u001b[0m\n\u001b[0m           ^\u001b[0m\n\u001b[0;31mSyntaxError\u001b[0m\u001b[0;31m:\u001b[0m invalid syntax. Perhaps you forgot a comma?\n"
          ]
        }
      ]
    },
    {
      "cell_type": "code",
      "source": [
        "#\\n (for spacing)\n",
        "print('Bea \\nBianca \\nLopez')"
      ],
      "metadata": {
        "colab": {
          "base_uri": "https://localhost:8080/"
        },
        "id": "NGRvPrequ0We",
        "outputId": "bde15cf3-5e00-4cc9-fdf6-9a9ddae3fb22"
      },
      "execution_count": null,
      "outputs": [
        {
          "output_type": "stream",
          "name": "stdout",
          "text": [
            "Bea \n",
            "Bianca \n",
            "Lopez\n"
          ]
        }
      ]
    },
    {
      "cell_type": "code",
      "source": [
        "a = 2\n",
        "b = 3\n",
        "print(a + b) #addition\n",
        "print(a - b) #substraction\n",
        "print(a * b) #multiplication\n",
        "print(a / b) #division\n",
        "\n",
        "x = 9\n",
        "y = 4\n",
        "print(9 % 4) #modulo operator\n",
        "\n",
        "print(x ** 2)\n",
        "print(2 ** 3) #expotential\n",
        "\n",
        "\n"
      ],
      "metadata": {
        "colab": {
          "base_uri": "https://localhost:8080/"
        },
        "id": "aOC3Ix9lvf_s",
        "outputId": "bf4cb880-6aee-45c7-c690-4ad96e7038af"
      },
      "execution_count": null,
      "outputs": [
        {
          "output_type": "stream",
          "name": "stdout",
          "text": [
            "5\n",
            "-1\n",
            "6\n",
            "0.6666666666666666\n",
            "1\n",
            "81\n",
            "8\n"
          ]
        }
      ]
    },
    {
      "cell_type": "code",
      "source": [
        "print(9 / 5)\n",
        "print(9 // 5) #floor division"
      ],
      "metadata": {
        "colab": {
          "base_uri": "https://localhost:8080/"
        },
        "id": "TgzFUomNwIUk",
        "outputId": "42c2751b-1736-4ab7-9eaa-142b38e9664f"
      },
      "execution_count": null,
      "outputs": [
        {
          "output_type": "stream",
          "name": "stdout",
          "text": [
            "1.8\n",
            "1\n"
          ]
        }
      ]
    },
    {
      "cell_type": "code",
      "source": [
        "#comparison operators\n",
        "# less than (<)\n",
        "# greater than (>)\n",
        "# equal to (==)\n",
        "# not equal to (!=)\n",
        "# greter than or equal to (>=)\n",
        "# less than or equal to (<=)\n",
        "#output results to boolean values (true or false)\n",
        "\n",
        "x = 10\n",
        "y = 5\n",
        "print(x < y)\n",
        "print(x > y)\n",
        "print(x == y)\n",
        "print(x != y)\n",
        "print(x >= y)\n",
        "print(x <= y)"
      ],
      "metadata": {
        "colab": {
          "base_uri": "https://localhost:8080/"
        },
        "id": "1k2pizf8xiL7",
        "outputId": "0be2193d-60b3-4eef-e2f0-f772a28a9212"
      },
      "execution_count": null,
      "outputs": [
        {
          "output_type": "stream",
          "name": "stdout",
          "text": [
            "False\n",
            "True\n",
            "False\n",
            "True\n",
            "True\n",
            "False\n"
          ]
        }
      ]
    },
    {
      "cell_type": "code",
      "source": [
        "#Boolean Operators\n",
        "#or\n",
        "#and\n",
        "#not,\n",
        "\n",
        "print(x or y)\n",
        "print(x and y)\n",
        "print(x, not y)"
      ],
      "metadata": {
        "colab": {
          "base_uri": "https://localhost:8080/"
        },
        "id": "Y7aHcS6nyzhi",
        "outputId": "f2d2785f-dcea-47ea-8d38-8a6c2b600a3d"
      },
      "execution_count": null,
      "outputs": [
        {
          "output_type": "stream",
          "name": "stdout",
          "text": [
            "10\n",
            "5\n",
            "10 False\n"
          ]
        }
      ]
    },
    {
      "cell_type": "code",
      "source": [
        "#Looping\n",
        "\n",
        "x = 5\n",
        "\n",
        "if x == 10:\n",
        "  print('equal to')\n",
        "else:\n",
        "    print('less than')"
      ],
      "metadata": {
        "colab": {
          "base_uri": "https://localhost:8080/"
        },
        "id": "KTJR4uDAzdfz",
        "outputId": "6953424b-ffb5-4132-9bae-c6c9d1f974a3"
      },
      "execution_count": null,
      "outputs": [
        {
          "output_type": "stream",
          "name": "stdout",
          "text": [
            "less than\n"
          ]
        }
      ]
    },
    {
      "cell_type": "code",
      "source": [
        "#Assignment of Variables\n",
        "\n",
        "name = 'bea'\n",
        "surname = 'lopez'\n",
        "print(name + surname)\n",
        "\n",
        "#number\n",
        "hours = 8\n",
        "score = 90\n",
        "print(hours)\n",
        "print(score)\n",
        "\n",
        "#Naming Variable\n",
        "name = 'Bea'\n",
        "unitPrice = 100\n",
        "unit_price = 200"
      ],
      "metadata": {
        "colab": {
          "base_uri": "https://localhost:8080/"
        },
        "id": "LMB6oEh_z73J",
        "outputId": "6c53858c-542f-4da3-fc32-f2db954c2700"
      },
      "execution_count": null,
      "outputs": [
        {
          "output_type": "stream",
          "name": "stdout",
          "text": [
            "bealopez\n",
            "8\n",
            "90\n"
          ]
        }
      ]
    },
    {
      "cell_type": "code",
      "source": [
        "f_name = 'Bea'\n",
        "l_name = 'Lopez'\n",
        "age = 19\n",
        "\n",
        "print(f'My name is {f_name} {l_name} and I am {age} years old')"
      ],
      "metadata": {
        "colab": {
          "base_uri": "https://localhost:8080/"
        },
        "id": "CK1hyzAI0i93",
        "outputId": "8c8b6f13-a195-4c5c-d255-d3f6b1d3b8d8"
      },
      "execution_count": null,
      "outputs": [
        {
          "output_type": "stream",
          "name": "stdout",
          "text": [
            "My name is Bea Lopez and I am 19 years old\n"
          ]
        }
      ]
    },
    {
      "cell_type": "code",
      "source": [
        "#Built-in functions\n",
        "#type() to know the data type\n",
        "#rounding-off\n",
        "\n",
        "x = 9\n",
        "y = 8.7\n",
        "z = 'Bea'\n",
        "\n",
        "type(x) #int\n",
        "type(y) #float\n",
        "type(z) #str\n",
        "\n",
        "round(y, 0)"
      ],
      "metadata": {
        "colab": {
          "base_uri": "https://localhost:8080/"
        },
        "id": "G_08ufKR2JLL",
        "outputId": "20f08319-6d19-4897-bac8-28064581bc5b"
      },
      "execution_count": null,
      "outputs": [
        {
          "output_type": "execute_result",
          "data": {
            "text/plain": [
              "9.0"
            ]
          },
          "metadata": {},
          "execution_count": 46
        }
      ]
    },
    {
      "cell_type": "code",
      "source": [],
      "metadata": {
        "id": "MDjLhqEq2qJs"
      },
      "execution_count": null,
      "outputs": []
    }
  ]
}